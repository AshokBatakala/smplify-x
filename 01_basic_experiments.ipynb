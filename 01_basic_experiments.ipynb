{
 "cells": [
  {
   "cell_type": "markdown",
   "metadata": {},
   "source": [
    "## conda env : smplify_37"
   ]
  },
  {
   "cell_type": "code",
   "execution_count": null,
   "metadata": {},
   "outputs": [],
   "source": [
    "!python smplifyx/main.py --config cfg_files/fit_smplx.yaml  \\\n",
    "    --data_folder ./data_folder  \\\n",
    "    --output_folder ./data_folder/output_folder  \\\n",
    "    --visualize=\"True\" \\\n",
    "    --model_folder /media/Ext_4T_SSD/ASHOK_PART2/smplify-x/Downloads/models \\\n",
    "    --vposer_ckpt /media/Ext_4T_SSD/ASHOK_PART2/smplify-x/Downloads/vposer_v1_0 \\\n",
    "    --part_segm_fn /media/Ext_4T_SSD/ASHOK_PART2/smplify-x/Downloads/smplx_parts_segm.pkl "
   ]
  },
  {
   "cell_type": "code",
   "execution_count": null,
   "metadata": {},
   "outputs": [],
   "source": [
    "# what is inside the /media/Ext_4T_SSD/ASHOK_PART2/smplify-x/Downloads/smplx_parts_segm.pkl file\n",
    "# it contains the part segmentation information for SMPL-X model\n",
    "import pickle\n",
    "with open('/media/Ext_4T_SSD/ASHOK_PART2/smplify-x/Downloads/smplx_parts_segm.pkl', 'rb') as f:\n",
    "    part_segm = pickle.load(f)\n",
    "type(part_segm)"
   ]
  },
  {
   "cell_type": "markdown",
   "metadata": {},
   "source": [
    "## To visualize the results"
   ]
  },
  {
   "cell_type": "code",
   "execution_count": null,
   "metadata": {},
   "outputs": [],
   "source": [
    "! python smplifyx/render_results.py --mesh_fns ./data_folder/output_folder/meshes"
   ]
  },
  {
   "cell_type": "markdown",
   "metadata": {},
   "source": [
    "# Understanding the outputs  ( using env: nlp_assg_env_latest)"
   ]
  },
  {
   "cell_type": "markdown",
   "metadata": {},
   "source": [
    "it is giving two outputs. mesh ( .obj) and a pkl file. check if that pkl file is just the parameters of smlp-x"
   ]
  },
  {
   "cell_type": "code",
   "execution_count": null,
   "metadata": {},
   "outputs": [
    {
     "name": "stdout",
     "output_type": "stream",
     "text": [
      "camera_rotation :(1, 3, 3) :<class 'numpy.ndarray'>\n",
      "camera_translation :(1, 3) :<class 'numpy.ndarray'>\n",
      "betas :(1, 10) :<class 'numpy.ndarray'>\n",
      "global_orient :(1, 3) :<class 'numpy.ndarray'>\n",
      "left_hand_pose :(1, 12) :<class 'numpy.ndarray'>\n",
      "right_hand_pose :(1, 12) :<class 'numpy.ndarray'>\n",
      "jaw_pose :(1, 3) :<class 'numpy.ndarray'>\n",
      "leye_pose :(1, 3) :<class 'numpy.ndarray'>\n",
      "reye_pose :(1, 3) :<class 'numpy.ndarray'>\n",
      "expression :(1, 10) :<class 'numpy.ndarray'>\n",
      "body_pose :(1, 32) :<class 'numpy.ndarray'>\n"
     ]
    }
   ],
   "source": [
    "import pickle\n",
    "\n",
    "pkl_file = \"/media/Ext_4T_SSD/ASHOK_PART2/smplify-x/data_folder/output_folder/results/lady_standing/000.pkl\"\n",
    "with open(pkl_file, 'rb') as f:\n",
    "    data = pickle.load(f)\n",
    "    # print(data.keys())\n",
    "    \n",
    "# print shapes of the data \n",
    "keys = data.keys()\n",
    "for key in keys:\n",
    "    print(key, data[key].shape, type(data[key]),sep=\" :\")\n",
    "    "
   ]
  },
  {
   "cell_type": "code",
   "execution_count": null,
   "metadata": {},
   "outputs": [
    {
     "name": "stdout",
     "output_type": "stream",
     "text": [
      "[[ 1.0882783  -0.25927648  0.07062989 -0.4454153  -0.6067004  -0.9026999\n",
      "   0.81940883  0.30874324 -0.1470848   0.63804007 -1.8519192   0.3966687\n",
      "  -0.49655244 -0.07236241  0.65701747 -1.424687   -1.0643927   0.66840994\n",
      "  -0.2141063  -0.3877801   0.7207591  -0.25786936 -0.55952823 -0.12053697\n",
      "   0.37059253  0.30171782  0.3720443   0.02662649  0.30333555  0.32818958\n",
      "  -0.25504887  0.21502186]]\n"
     ]
    }
   ],
   "source": [
    "# print body_pose\n",
    "print(data['body_pose'])\n",
    "\n",
    "# add random noise to the body pose\n",
    "import numpy as np\n",
    "data['body_pose'] = data['body_pose'] + np.random.rand(*data['body_pose'].shape) * 0.2\n",
    "\n",
    "# save the modified data into a new file\n",
    "new_pkl_file = \"/media/Ext_4T_SSD/ASHOK_PART2/smplify-x/data_folder/output_folder/results/lady_standing/000_modified.pkl\"\n",
    "with open(new_pkl_file, 'wb') as f:\n",
    "    pickle.dump(data, f)"
   ]
  },
  {
   "cell_type": "code",
   "execution_count": null,
   "metadata": {},
   "outputs": [],
   "source": [
    "# visualize the modified mesh using smpl viewer\n",
    "!python smplifyx/render_results.py --mesh_fns /media/Ext_4T_SSD/ASHOK_PART2/smplify-x/data_folder/output_folder/results/lady_standing/000_modified.pkl"
   ]
  },
  {
   "cell_type": "code",
   "execution_count": 2,
   "metadata": {},
   "outputs": [
    {
     "data": {
      "text/plain": [
       "dict_keys(['camera_rotation', 'camera_translation', 'betas', 'global_orient', 'left_hand_pose', 'right_hand_pose', 'jaw_pose', 'leye_pose', 'reye_pose', 'expression', 'body_pose'])"
      ]
     },
     "execution_count": 2,
     "metadata": {},
     "output_type": "execute_result"
    }
   ],
   "source": [
    "import pickle\n",
    "modified_pkl = \"/media/Ext_4T_SSD/ASHOK_PART2/smplify-x/data_folder/output_folder/results/lady_standing/000.pkl\"\n",
    "with open(modified_pkl, 'rb') as f:\n",
    "    data = pickle.load(f)\n",
    "\n",
    "data.keys()\n",
    "\n",
    "#betas,expression,"
   ]
  },
  {
   "cell_type": "code",
   "execution_count": 4,
   "metadata": {},
   "outputs": [
    {
     "data": {
      "text/plain": [
       "(1, 10)"
      ]
     },
     "execution_count": 4,
     "metadata": {},
     "output_type": "execute_result"
    }
   ],
   "source": [
    "data['betas'].shape"
   ]
  },
  {
   "cell_type": "code",
   "execution_count": 6,
   "metadata": {},
   "outputs": [
    {
     "name": "stdout",
     "output_type": "stream",
     "text": [
      "Found Trained Model: /media/Ext_4T_SSD/ASHOK_PART2/smplify-x/Downloads/vposer_v1_0/snapshots/TR00_E096.pt\n"
     ]
    },
    {
     "ename": "RuntimeError",
     "evalue": "shape '[-1, 21, 3]' is invalid for input of size 32",
     "output_type": "error",
     "traceback": [
      "\u001b[0;31m---------------------------------------------------------------------------\u001b[0m",
      "\u001b[0;31mRuntimeError\u001b[0m                              Traceback (most recent call last)",
      "\u001b[0;32m/tmp/ipykernel_15538/2415183935.py\u001b[0m in \u001b[0;36m<module>\u001b[0;34m\u001b[0m\n\u001b[1;32m     61\u001b[0m \u001b[0;31m# body\u001b[0m\u001b[0;34m\u001b[0m\u001b[0;34m\u001b[0m\u001b[0;34m\u001b[0m\u001b[0m\n\u001b[1;32m     62\u001b[0m \u001b[0;34m\u001b[0m\u001b[0m\n\u001b[0;32m---> 63\u001b[0;31m \u001b[0moutput\u001b[0m \u001b[0;34m=\u001b[0m \u001b[0mmodel\u001b[0m\u001b[0;34m(\u001b[0m\u001b[0mbetas\u001b[0m\u001b[0;34m=\u001b[0m\u001b[0mbetas\u001b[0m\u001b[0;34m,\u001b[0m \u001b[0mexpression\u001b[0m\u001b[0;34m=\u001b[0m\u001b[0mexpression\u001b[0m\u001b[0;34m,\u001b[0m \u001b[0mreturn_verts\u001b[0m\u001b[0;34m=\u001b[0m\u001b[0;32mTrue\u001b[0m\u001b[0;34m,\u001b[0m \u001b[0mbody_pose\u001b[0m\u001b[0;34m=\u001b[0m\u001b[0mbody_pose\u001b[0m\u001b[0;34m)\u001b[0m\u001b[0;34m\u001b[0m\u001b[0;34m\u001b[0m\u001b[0m\n\u001b[0m\u001b[1;32m     64\u001b[0m \u001b[0;34m\u001b[0m\u001b[0m\n\u001b[1;32m     65\u001b[0m \u001b[0;34m\u001b[0m\u001b[0m\n",
      "\u001b[0;32m~/anaconda3/envs/smplify_37/lib/python3.7/site-packages/torch/nn/modules/module.py\u001b[0m in \u001b[0;36m_call_impl\u001b[0;34m(self, *input, **kwargs)\u001b[0m\n\u001b[1;32m   1192\u001b[0m         if not (self._backward_hooks or self._forward_hooks or self._forward_pre_hooks or _global_backward_hooks\n\u001b[1;32m   1193\u001b[0m                 or _global_forward_hooks or _global_forward_pre_hooks):\n\u001b[0;32m-> 1194\u001b[0;31m             \u001b[0;32mreturn\u001b[0m \u001b[0mforward_call\u001b[0m\u001b[0;34m(\u001b[0m\u001b[0;34m*\u001b[0m\u001b[0minput\u001b[0m\u001b[0;34m,\u001b[0m \u001b[0;34m**\u001b[0m\u001b[0mkwargs\u001b[0m\u001b[0;34m)\u001b[0m\u001b[0;34m\u001b[0m\u001b[0;34m\u001b[0m\u001b[0m\n\u001b[0m\u001b[1;32m   1195\u001b[0m         \u001b[0;31m# Do not call functions when jit is used\u001b[0m\u001b[0;34m\u001b[0m\u001b[0;34m\u001b[0m\u001b[0;34m\u001b[0m\u001b[0m\n\u001b[1;32m   1196\u001b[0m         \u001b[0mfull_backward_hooks\u001b[0m\u001b[0;34m,\u001b[0m \u001b[0mnon_full_backward_hooks\u001b[0m \u001b[0;34m=\u001b[0m \u001b[0;34m[\u001b[0m\u001b[0;34m]\u001b[0m\u001b[0;34m,\u001b[0m \u001b[0;34m[\u001b[0m\u001b[0;34m]\u001b[0m\u001b[0;34m\u001b[0m\u001b[0;34m\u001b[0m\u001b[0m\n",
      "\u001b[0;32m~/anaconda3/envs/smplify_37/lib/python3.7/site-packages/smplx/body_models.py\u001b[0m in \u001b[0;36mforward\u001b[0;34m(self, betas, global_orient, body_pose, left_hand_pose, right_hand_pose, transl, expression, jaw_pose, leye_pose, reye_pose, return_verts, return_full_pose, pose2rot, return_shaped, **kwargs)\u001b[0m\n\u001b[1;32m   1207\u001b[0m \u001b[0;34m\u001b[0m\u001b[0m\n\u001b[1;32m   1208\u001b[0m         full_pose = torch.cat([global_orient.reshape(-1, 1, 3),\n\u001b[0;32m-> 1209\u001b[0;31m                                \u001b[0mbody_pose\u001b[0m\u001b[0;34m.\u001b[0m\u001b[0mreshape\u001b[0m\u001b[0;34m(\u001b[0m\u001b[0;34m-\u001b[0m\u001b[0;36m1\u001b[0m\u001b[0;34m,\u001b[0m \u001b[0mself\u001b[0m\u001b[0;34m.\u001b[0m\u001b[0mNUM_BODY_JOINTS\u001b[0m\u001b[0;34m,\u001b[0m \u001b[0;36m3\u001b[0m\u001b[0;34m)\u001b[0m\u001b[0;34m,\u001b[0m\u001b[0;34m\u001b[0m\u001b[0;34m\u001b[0m\u001b[0m\n\u001b[0m\u001b[1;32m   1210\u001b[0m                                \u001b[0mjaw_pose\u001b[0m\u001b[0;34m.\u001b[0m\u001b[0mreshape\u001b[0m\u001b[0;34m(\u001b[0m\u001b[0;34m-\u001b[0m\u001b[0;36m1\u001b[0m\u001b[0;34m,\u001b[0m \u001b[0;36m1\u001b[0m\u001b[0;34m,\u001b[0m \u001b[0;36m3\u001b[0m\u001b[0;34m)\u001b[0m\u001b[0;34m,\u001b[0m\u001b[0;34m\u001b[0m\u001b[0;34m\u001b[0m\u001b[0m\n\u001b[1;32m   1211\u001b[0m                                \u001b[0mleye_pose\u001b[0m\u001b[0;34m.\u001b[0m\u001b[0mreshape\u001b[0m\u001b[0;34m(\u001b[0m\u001b[0;34m-\u001b[0m\u001b[0;36m1\u001b[0m\u001b[0;34m,\u001b[0m \u001b[0;36m1\u001b[0m\u001b[0;34m,\u001b[0m \u001b[0;36m3\u001b[0m\u001b[0;34m)\u001b[0m\u001b[0;34m,\u001b[0m\u001b[0;34m\u001b[0m\u001b[0;34m\u001b[0m\u001b[0m\n",
      "\u001b[0;31mRuntimeError\u001b[0m: shape '[-1, 21, 3]' is invalid for input of size 32"
     ]
    }
   ],
   "source": [
    "import torch\n",
    "import smplx\n",
    "\n",
    "# Create the SMPL-X model\n",
    "model_path = '/media/Ext_4T_SSD/ASHOK_PART2/smplify-x/Downloads/models/smplx/SMPLX_NEUTRAL.npz'\n",
    "model = smplx.create(model_path, model_type='smplx',\n",
    "                     gender='neutral', ext='npz',\n",
    "                     num_pca_comps=12,\n",
    "                     create_global_orient=True,\n",
    "                     create_body_pose=True,\n",
    "                     create_betas=True,\n",
    "                     create_left_hand_pose=True,\n",
    "                     create_right_hand_pose=True,\n",
    "                     create_expression=True,\n",
    "                     create_jaw_pose=True,\n",
    "                     create_leye_pose=True,\n",
    "                     create_reye_pose=True,\n",
    "                     create_transl=True)\n",
    "\n",
    "# Define the batch size\n",
    "batch_size = 1\n",
    "\n",
    "# Define the device\n",
    "# device = torch.device('cuda' if torch.cuda.is_available() else 'cpu')\n",
    "device = \"cpu\"\n",
    "\n",
    "# Generate random body parameters\n",
    "betas = torch.randn(batch_size, 10, device=device)  # shape parameters\n",
    "expression = torch.randn(batch_size, 10, device=device)  # expression parameters\n",
    "# pose = torch.randn(batch_size, int(model.body_pose), device=device)  # pose parameters\n",
    "pose = torch.randn(batch_size, 63, device=device)  # pose parameter\n",
    "\n",
    "# Generate the SMPL-X mesh\n",
    "# output = model(betas=betas, expression=expression, body_pose=pose[:, 3:], return_verts=True)\n",
    "# output = model(betas=betas, expression=expression, body_pose=pose, return_verts=True)\n",
    "\n",
    "\n",
    "# load from the data\n",
    "betas = torch.tensor(data['betas'], device=device)\n",
    "# body_pose = torch.tensor(data['body_pose'], device=device\n",
    "\n",
    "import os.path as osp\n",
    "from human_body_prior.tools.model_loader import load_vposer\n",
    "\n",
    "use_vposer = True\n",
    "dtype = torch.float\n",
    "device = torch.device('cuda' if torch.cuda.is_available() else 'cpu')\n",
    "vposer_ckpt = '/media/Ext_4T_SSD/ASHOK_PART2/smplify-x/Downloads/vposer_v1_0'\n",
    "\n",
    "if use_vposer:\n",
    "    pose_embedding = torch.zeros([batch_size, 32],\n",
    "                                    dtype=dtype, device=device,\n",
    "                                    requires_grad=True)\n",
    "\n",
    "    vposer_ckpt = osp.expandvars(vposer_ckpt)\n",
    "    vposer, _ = load_vposer(vposer_ckpt, vp_model='snapshot')\n",
    "    vposer = vposer.to(device=device)\n",
    "    vposer.eval()\n",
    "\n",
    "\n",
    "# body\n",
    "\n",
    "output = model(betas=betas, expression=expression, return_verts=True, body_pose=body_pose)\n",
    "\n",
    "\n",
    "import trimesh\n",
    "import numpy as np\n",
    "\n",
    "# Get the vertices and faces from the SMPL-X output\n",
    "vertices = output.vertices.detach().cpu().numpy().squeeze()\n",
    "faces = model.faces\n",
    "out_mesh = trimesh.Trimesh(vertices, faces, process=False)\n",
    "rot = trimesh.transformations.rotation_matrix(np.radians(180), [1, 0, 0])\n",
    "out_mesh.apply_transform(rot)\n",
    "out_mesh.show()\n",
    "\n"
   ]
  },
  {
   "cell_type": "code",
   "execution_count": 31,
   "metadata": {},
   "outputs": [
    {
     "data": {
      "text/plain": [
       "65"
      ]
     },
     "execution_count": 31,
     "metadata": {},
     "output_type": "execute_result"
    }
   ],
   "source": [
    "# camera_rotation :(1, 3, 3) :<class 'numpy.ndarray'>\n",
    "# camera_translation :(1, 3) :<class 'numpy.ndarray'>\n",
    "# betas :(1, 10) :<class 'numpy.ndarray'>\n",
    "# global_orient :(1, 3) :<class 'numpy.ndarray'>\n",
    "# left_hand_pose :(1, 12) :<class 'numpy.ndarray'>\n",
    "# right_hand_pose :(1, 12) :<class 'numpy.ndarray'>\n",
    "# jaw_pose :(1, 3) :<class 'numpy.ndarray'>\n",
    "# leye_pose :(1, 3) :<class 'numpy.ndarray'>\n",
    "# reye_pose :(1, 3) :<class 'numpy.ndarray'>\n",
    "# expression :(1, 10) :<class 'numpy.ndarray'>\n",
    "# body_pose :(1, 32) :<class 'numpy.ndarray'>\n",
    "\n",
    "# shape '[-1, 21, 3]' is invalid for input of size 65\n",
    "\n",
    "\n",
    "32 +9+24"
   ]
  }
 ],
 "metadata": {
  "kernelspec": {
   "display_name": "smplify_37",
   "language": "python",
   "name": "python3"
  },
  "language_info": {
   "codemirror_mode": {
    "name": "ipython",
    "version": 3
   },
   "file_extension": ".py",
   "mimetype": "text/x-python",
   "name": "python",
   "nbconvert_exporter": "python",
   "pygments_lexer": "ipython3",
   "version": "3.7.16"
  }
 },
 "nbformat": 4,
 "nbformat_minor": 2
}
