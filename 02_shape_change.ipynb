{
 "cells": [
  {
   "cell_type": "code",
   "execution_count": null,
   "metadata": {},
   "outputs": [],
   "source": [
    "\n",
    "camera = 0\n",
    "focal_length = 5000\n",
    "np = 0\n",
    "visualize = 1\n",
    "out_img_fn = 'out.png'\n",
    "out_mesh = None\n",
    "img = None\n",
    "W = 640\n",
    "H = 480\n",
    "moniter = None\n",
    "pil_img = None\n",
    "\n",
    "\n",
    "\n",
    "if visualize:\n",
    "    import pyrender\n",
    "\n",
    "    material = pyrender.MetallicRoughnessMaterial(\n",
    "        metallicFactor=0.0,\n",
    "        alphaMode='OPAQUE',\n",
    "        baseColorFactor=(1.0, 1.0, 0.9, 1.0))\n",
    "    mesh = pyrender.Mesh.from_trimesh(\n",
    "        out_mesh,\n",
    "        material=material)\n",
    "\n",
    "    scene = pyrender.Scene(bg_color=[0.0, 0.0, 0.0, 0.0],\n",
    "                            ambient_light=(0.3, 0.3, 0.3))\n",
    "    scene.add(mesh, 'mesh')\n",
    "\n",
    "    camera_center = camera.center.detach().cpu().numpy().squeeze()\n",
    "    camera_transl = camera.translation.detach().cpu().numpy().squeeze()\n",
    "    # Equivalent to 180 degrees around the y-axis. Transforms the fit to\n",
    "    # OpenGL compatible coordinate system.\n",
    "    camera_transl[0] *= -1.0\n",
    "\n",
    "    camera_pose = np.eye(4)\n",
    "    camera_pose[:3, 3] = camera_transl\n",
    "\n",
    "    camera = pyrender.camera.IntrinsicsCamera(\n",
    "        fx=focal_length, fy=focal_length,\n",
    "        cx=camera_center[0], cy=camera_center[1])\n",
    "    scene.add(camera, pose=camera_pose)\n",
    "\n",
    "    # Get the lights from the viewer\n",
    "    light_nodes = monitor.mv.viewer._create_raymond_lights()\n",
    "    for node in light_nodes:\n",
    "        scene.add_node(node)\n",
    "\n",
    "    r = pyrender.OffscreenRenderer(viewport_width=W,\n",
    "                                    viewport_height=H,\n",
    "                                    point_size=1.0)\n",
    "    color, _ = r.render(scene, flags=pyrender.RenderFlags.RGBA)\n",
    "    color = color.astype(np.float32) / 255.0\n",
    "\n",
    "    valid_mask = (color[:, :, -1] > 0)[:, :, np.newaxis]\n",
    "    input_img = img.detach().cpu().numpy()\n",
    "    output_img = (color[:, :, :-1] * valid_mask +\n",
    "                    (1 - valid_mask) * input_img)\n",
    "\n",
    "    img = pil_img.fromarray((output_img * 255).astype(np.uint8))\n",
    "    img.save(out_img_fn)\n",
    "\n"
   ]
  },
  {
   "cell_type": "code",
   "execution_count": 5,
   "metadata": {},
   "outputs": [],
   "source": [
    "config_file = '/media/Ext_4T_SSD/ASHOK_PART2/smplify-x/data_folder/output_folder/conf.yaml'\n",
    "\n",
    "import yaml\n",
    "import numpy as np\n",
    "\n",
    "# Load the YAML file\n",
    "with open(config_file, 'r') as f:\n",
    "    args = yaml.load(f, Loader=yaml.FullLoader)  # Use FullLoader instead of SafeLoader\n",
    "\n",
    "# Now data['body_tri_idxs'] should be a list of tuples"
   ]
  },
  {
   "cell_type": "code",
   "execution_count": null,
   "metadata": {},
   "outputs": [],
   "source": [
    "python smplifyx/render_pkl.py  --pkl /media/Ext_4T_SSD/ASHOK_PART2/smplify-x/data_folder/output_folder/results/lady_standing/000.pkl -c /media/Ext_4T_SSD/ASHOK_PART2/smplify-x/data_folder/output_folder/conf.yaml"
   ]
  },
  {
   "cell_type": "code",
   "execution_count": null,
   "metadata": {},
   "outputs": [],
   "source": [
    "python smplifyx/render_pkl.py  --pkl /media/Ext_4T_SSD/ASHOK_PART2/smplify-x/data_folder/output_folder/results/lady_standing/000_modified.pkl -c /media/Ext_4T_SSD/ASHOK_PART2/smplify-x/data_folder/output_folder/conf.yaml"
   ]
  }
 ],
 "metadata": {
  "kernelspec": {
   "display_name": "smplify_37",
   "language": "python",
   "name": "python3"
  },
  "language_info": {
   "codemirror_mode": {
    "name": "ipython",
    "version": 3
   },
   "file_extension": ".py",
   "mimetype": "text/x-python",
   "name": "python",
   "nbconvert_exporter": "python",
   "pygments_lexer": "ipython3",
   "version": "3.7.16"
  }
 },
 "nbformat": 4,
 "nbformat_minor": 2
}
