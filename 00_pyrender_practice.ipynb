{
 "cells": [
  {
   "cell_type": "code",
   "execution_count": 2,
   "metadata": {},
   "outputs": [
    {
     "data": {
      "text/plain": [
       "<pyrender.node.Node at 0x7703e8859bd0>"
      ]
     },
     "execution_count": 2,
     "metadata": {},
     "output_type": "execute_result"
    }
   ],
   "source": [
    "import trimesh\n",
    "import pyrender\n",
    "import numpy as np\n",
    "import matplotlib.pyplot as plt\n",
    "\n",
    "obj_path =\"/media/Ext_4T_SSD/ASHOK_PART2/smplify-x/data_folder/output_folder/meshes/lady_standing/000.obj\"\n",
    "mesh = trimesh.load(obj_path)\n",
    "\n",
    "mesh = pyrender.Mesh.from_trimesh(mesh)\n",
    "\n",
    "scene = pyrender.Scene()\n",
    "scene.add(mesh)\n",
    "\n",
    "# pyrender.Viewer(scene, use_raymond_lighting=True)"
   ]
  },
  {
   "cell_type": "code",
   "execution_count": 3,
   "metadata": {},
   "outputs": [
    {
     "data": {
      "image/png": "[encoded data removed]",
      "text/plain": [
       "<Figure size 640x480 with 2 Axes>"
      ]
     },
     "metadata": {},
     "output_type": "display_data"
    }
   ],
   "source": [
    "# add camera, lights\n",
    "camera = pyrender.PerspectiveCamera(yfov=np.pi / 3.0)\n",
    "camera_pose = np.eye(4)\n",
    "camera_pose[:3, 3] = np.array([0, 0, 3])\n",
    "scene.add(camera, pose=camera_pose)\n",
    "light = pyrender.SpotLight(color=np.ones(3), intensity=3.0,\n",
    "                            innerConeAngle=np.pi/16.0)\n",
    "scene.add(light, pose=camera_pose)\n",
    "\n",
    "# render\n",
    "r = pyrender.OffscreenRenderer(640, 480)\n",
    "color, depth = r.render(scene)\n",
    "plt.figure()\n",
    "plt.subplot(1, 2, 1)\n",
    "plt.axis('off')\n",
    "plt.imshow(color)\n",
    "plt.subplot(1, 2, 2)\n",
    "plt.axis('off')\n",
    "plt.imshow(depth, cmap=plt.cm.gray_r)\n",
    "plt.show()\n",
    "\n"
   ]
  },
  {
   "cell_type": "code",
   "execution_count": null,
   "metadata": {},
   "outputs": [],
   "source": [
    "\n",
    "# import trimesh\n",
    "\n",
    "# out_mesh = trimesh.Trimesh(vertices, body_model.faces, process=False)\n",
    "# rot = trimesh.transformations.rotation_matrix(\n",
    "#     np.radians(180), [1, 0, 0])\n",
    "# out_mesh.apply_transform(rot) # why this transformation\n",
    "# out_mesh.export(mesh_fn)\n",
    "\n",
    "# if visualize:\n",
    "# import pyrender\n",
    "\n",
    "# material = pyrender.MetallicRoughnessMaterial(\n",
    "#     metallicFactor=0.0,\n",
    "#     alphaMode='OPAQUE',\n",
    "#     baseColorFactor=(1.0, 1.0, 0.9, 1.0))\n",
    "# mesh = pyrender.Mesh.from_trimesh(\n",
    "#     out_mesh,\n",
    "#     material=material)\n",
    "\n",
    "# scene = pyrender.Scene(bg_color=[0.0, 0.0, 0.0, 0.0],\n",
    "#                         ambient_light=(0.3, 0.3, 0.3))\n",
    "# scene.add(mesh, 'mesh')\n",
    "\n",
    "# camera_center = camera.center.detach().cpu().numpy().squeeze()\n",
    "# camera_transl = camera.translation.detach().cpu().numpy().squeeze()\n",
    "# # Equivalent to 180 degrees around the y-axis. Transforms the fit to\n",
    "# # OpenGL compatible coordinate system.\n",
    "# camera_transl[0] *= -1.0\n",
    "\n",
    "# camera_pose = np.eye(4)\n",
    "# camera_pose[:3, 3] = camera_transl\n",
    "\n",
    "# camera = pyrender.camera.IntrinsicsCamera(\n",
    "#     fx=focal_length, fy=focal_length,\n",
    "#     cx=camera_center[0], cy=camera_center[1])\n",
    "# scene.add(camera, pose=camera_pose) \n",
    "\n",
    "# # Get the lights from the viewer\n",
    "# light_nodes = monitor.mv.viewer._create_raymond_lights()\n",
    "# for node in light_nodes:\n",
    "#     scene.add_node(node)\n",
    "\n",
    "# r = pyrender.OffscreenRenderer(viewport_width=W,\n",
    "#                                 viewport_height=H,\n",
    "#                                 point_size=1.0)\n",
    "# color, _ = r.render(scene, flags=pyrender.RenderFlags.RGBA)\n",
    "# color = color.astype(np.float32) / 255.0\n",
    "\n",
    "# valid_mask = (color[:, :, -1] > 0)[:, :, np.newaxis]\n",
    "# input_img = img.detach().cpu().numpy()\n",
    "# output_img = (color[:, :, :-1] * valid_mask +\n",
    "#                 (1 - valid_mask) * input_img)\n",
    "\n",
    "# img = pil_img.fromarray((output_img * 255).astype(np.uint8))\n",
    "# img.save(out_img_fn)\n",
    "\n",
    "# #store all the values that are neede for the visualization\n",
    "# vis_vals = {'focal_length': focal_length,\n",
    "#             'camera_center': camera_center,\n",
    "#             'camera_pose': camera_pose,\n",
    "#             'W': W,\n",
    "#             'H': H\n",
    "#             }\n",
    "# #store the values in a pickle file\n",
    "# vis_fn = osp.splitext(out_img_fn)[0] + '_vis_values.pkl'\n",
    "# with open(vis_fn, 'wb') as vis_file:\n",
    "#     pickle.dump(vis_vals, vis_file, protocol=2)\n",
    "    "
   ]
  },
  {
   "cell_type": "code",
   "execution_count": null,
   "metadata": {},
   "outputs": [],
   "source": [
    "import pickle\n",
    "\n",
    "def render_mesh(vis_values_pkl, mesh ):\n",
    "    #load the values from the pickle file\n",
    "    with open(vis_values_pkl, 'rb') as vis_file:\n",
    "        vis_vals = pickle.load(vis_file)\n",
    "    #create a pyrender scene\n",
    "    scene = pyrender.Scene(bg_color=[0.0, 0.0, 0.0, 0.0],\n",
    "                            ambient_light=(0.3, 0.3, 0.3))\n",
    "    #create a pyrender mesh\n",
    "    material = pyrender.MetallicRoughnessMaterial(\n",
    "        metallicFactor=0.0,\n",
    "        alphaMode='OPAQUE',\n",
    "        baseColorFactor=(1.0, 1.0, 0.9, 1.0))\n",
    "    mesh = pyrender.Mesh.from_trimesh(\n",
    "        mesh,\n",
    "        material=material)\n",
    "    scene.add(mesh, 'mesh')\n",
    "    #create a pyrender camera\n",
    "    camera = pyrender.camera.IntrinsicsCamera(\n",
    "        fx=vis_vals['focal_length'], fy=vis_vals['focal_length'],\n",
    "        cx=vis_vals['camera_center'][0], cy=vis_vals['camera_center'][1])\n",
    "    scene.add(camera, pose=vis_vals['camera_pose'])\n",
    "    #create a pyrender light\n",
    "    light = pyrender.PointLight(color=[1.0, 1.0, 1.0], intensity=1.0)\n",
    "    scene.add(light, pose=vis_vals['camera_pose'])\n",
    "    #create a pyrender renderer\n",
    "    r = pyrender.OffscreenRenderer(vis_vals['W'], vis_vals['H'])\n",
    "    color, _ = r.render(scene, flags=pyrender.RenderFlags.RGBA)\n",
    "    color = color.astype(np.float32) / 255.0\n",
    "    return color\n",
    "\n",
    "\n"
   ]
  }
 ],
 "metadata": {
  "kernelspec": {
   "display_name": "smplify_37",
   "language": "python",
   "name": "python3"
  },
  "language_info": {
   "codemirror_mode": {
    "name": "ipython",
    "version": 3
   },
   "file_extension": ".py",
   "mimetype": "text/x-python",
   "name": "python",
   "nbconvert_exporter": "python",
   "pygments_lexer": "ipython3",
   "version": "3.7.16"
  }
 },
 "nbformat": 4,
 "nbformat_minor": 2
}
